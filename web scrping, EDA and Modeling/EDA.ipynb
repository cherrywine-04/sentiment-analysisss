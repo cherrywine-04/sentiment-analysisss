{
  "cells": [
    {
      "cell_type": "code",
      "execution_count": 1,
      "metadata": {
        "id": "ISDNwsfNl_60"
      },
      "outputs": [],
      "source": [
        "import pandas as pd\n",
        "from collections import Counter\n",
        "from nltk.tokenize import word_tokenize\n",
        "import matplotlib.pyplot as plt\n",
        "import re\n",
        "import nltk\n",
        "from nltk.corpus import stopwords\n",
        "from nltk.stem import WordNetLemmatizer\n"
      ]
    },
    {
      "cell_type": "code",
      "execution_count": 2,
      "metadata": {
        "colab": {
          "base_uri": "https://localhost:8080/"
        },
        "id": "oz172gjh5EYo",
        "outputId": "89638869-d4a3-43ca-b19e-23bc5d91b49d"
      },
      "outputs": [
        {
          "name": "stderr",
          "output_type": "stream",
          "text": [
            "[nltk_data] Downloading package punkt to\n",
            "[nltk_data]     C:\\Users\\PS\\AppData\\Roaming\\nltk_data...\n",
            "[nltk_data]   Package punkt is already up-to-date!\n",
            "[nltk_data] Downloading package wordnet to\n",
            "[nltk_data]     C:\\Users\\PS\\AppData\\Roaming\\nltk_data...\n",
            "[nltk_data]   Package wordnet is already up-to-date!\n",
            "[nltk_data] Downloading package stopwords to\n",
            "[nltk_data]     C:\\Users\\PS\\AppData\\Roaming\\nltk_data...\n",
            "[nltk_data]   Package stopwords is already up-to-date!\n"
          ]
        },
        {
          "data": {
            "text/plain": [
              "True"
            ]
          },
          "execution_count": 2,
          "metadata": {},
          "output_type": "execute_result"
        }
      ],
      "source": [
        "import nltk\n",
        "nltk.download('punkt')\n",
        "nltk.download('wordnet')\n",
        "nltk.download('stopwords')"
      ]
    },
    {
      "cell_type": "code",
      "execution_count": 4,
      "metadata": {
        "id": "GW8sS0UrmK_u"
      },
      "outputs": [],
      "source": [
        "\n",
        "df_1 = pd.read_csv('C:\\\\Users\\\\PS\\\\Downloads\\\\Flipkart Sentiment Analysis\\\\reviews_badminton\\\\data.csv')\n",
        "df_2 = pd.read_csv(\"C:\\\\Users\\\\PS\\\\Downloads\\\\Flipkart Sentiment Analysis\\\\reviews_tawa\\\\data.csv\")\n",
        "df_3 = pd.read_csv(\"C:\\\\Users\\\\PS\\\\Downloads\\\\Flipkart Sentiment Analysis\\\\reviews_tea\\\\data.csv\")"
      ]
    },
    {
      "cell_type": "code",
      "execution_count": 6,
      "metadata": {
        "colab": {
          "base_uri": "https://localhost:8080/"
        },
        "id": "mejM-yopniJd",
        "outputId": "7a805372-c99e-4a85-dcd1-25d74b41e885"
      },
      "outputs": [
        {
          "data": {
            "text/plain": [
              "Index(['Reviewer Name', 'Review Title', 'Place of Review', 'Up Votes',\n",
              "       'Down Votes', 'Month', 'Review text', 'Ratings'],\n",
              "      dtype='object')"
            ]
          },
          "execution_count": 6,
          "metadata": {},
          "output_type": "execute_result"
        }
      ],
      "source": [
        "\n",
        "df_1.columns"
      ]
    },
    {
      "cell_type": "code",
      "execution_count": 7,
      "metadata": {
        "colab": {
          "base_uri": "https://localhost:8080/"
        },
        "id": "S8DGG0CCny8W",
        "outputId": "41dfd457-f9a3-48fe-97e0-cfa5b790611d"
      },
      "outputs": [
        {
          "data": {
            "text/plain": [
              "Index(['Reviewer_Name', 'Reviewer_Rating', 'Review_Title', 'Review_Text',\n",
              "       'Place_of_Review', 'Date_of_Review', 'Up_Votes', 'Down_Votes'],\n",
              "      dtype='object')"
            ]
          },
          "execution_count": 7,
          "metadata": {},
          "output_type": "execute_result"
        }
      ],
      "source": [
        "df_2.columns"
      ]
    },
    {
      "cell_type": "code",
      "execution_count": 8,
      "metadata": {
        "colab": {
          "base_uri": "https://localhost:8080/"
        },
        "id": "xSdjk7yCn4rp",
        "outputId": "fdf498d5-003c-4ef5-fd8e-1dde07651f27"
      },
      "outputs": [
        {
          "data": {
            "text/plain": [
              "Index(['reviewer_name', 'reviewer_rating', 'review_title', 'review_text',\n",
              "       'place_of_review', 'Date_of_review', 'up_votes', 'Down_votes'],\n",
              "      dtype='object')"
            ]
          },
          "execution_count": 8,
          "metadata": {},
          "output_type": "execute_result"
        }
      ],
      "source": [
        "df_3.columns"
      ]
    },
    {
      "cell_type": "code",
      "execution_count": 12,
      "metadata": {
        "id": "3PzxZ4r5oCxS"
      },
      "outputs": [],
      "source": [
        "rename = {'Reviewer Name': 'reviewer_name',\n",
        "          'Review Title':'review_title',\n",
        "          'Place of Review':'place_of_review',\n",
        "          'Up Votes':'up_votes',\n",
        "          'Down Votes': 'down_votes',\n",
        "          'Review text':'review_text',\n",
        "          'Month':'month',\n",
        "          'Ratings': 'ratings'\n",
        "          }"
      ]
    },
    {
      "cell_type": "code",
      "execution_count": 13,
      "metadata": {
        "id": "wmwErFzvo9he"
      },
      "outputs": [],
      "source": [
        "df_1 = df_1.rename(columns= rename)"
      ]
    },
    {
      "cell_type": "code",
      "execution_count": 14,
      "metadata": {
        "colab": {
          "base_uri": "https://localhost:8080/"
        },
        "id": "Z0O1QNGcp52g",
        "outputId": "bb2cd1df-70a5-4d0e-86cc-fa29e0bf8065"
      },
      "outputs": [
        {
          "data": {
            "text/plain": [
              "Index(['reviewer_name', 'review_title', 'place_of_review', 'up_votes',\n",
              "       'down_votes', 'month', 'review_text', 'ratings'],\n",
              "      dtype='object')"
            ]
          },
          "execution_count": 14,
          "metadata": {},
          "output_type": "execute_result"
        }
      ],
      "source": [
        "df_1.columns"
      ]
    },
    {
      "cell_type": "code",
      "execution_count": 15,
      "metadata": {
        "id": "CsX4Sjm1wZCv"
      },
      "outputs": [],
      "source": [
        "rename ={'Reviewer_Name':'reviewer_name',\n",
        "         'Reviewer_Rating':'ratings',\n",
        "         'Review_Title': \"review_title\",\n",
        "         'Review_Text': 'review_text',\n",
        "         'Place_of_Review':'place_of_review',\n",
        "         'Date_of_Review':'date_of_review',\n",
        "         'Up_Votes':'up_votes',\n",
        "         'Down_Votes': 'down_votes'}"
      ]
    },
    {
      "cell_type": "code",
      "execution_count": 16,
      "metadata": {
        "id": "Cn_SFueZxBKT"
      },
      "outputs": [],
      "source": [
        "df_2 = df_2.rename(columns= rename)"
      ]
    },
    {
      "cell_type": "code",
      "execution_count": 17,
      "metadata": {
        "id": "BQnQQ6kQxI3r"
      },
      "outputs": [],
      "source": [
        "rename ={'Date_of_review':'date_of_review',\n",
        "         'Down_votes': 'down_votes',\n",
        "         'reviewer_rating':'ratings'}"
      ]
    },
    {
      "cell_type": "code",
      "execution_count": 18,
      "metadata": {
        "id": "IkLnzg3NxeqY"
      },
      "outputs": [],
      "source": [
        "df_3 = df_3.rename(columns= rename)"
      ]
    },
    {
      "cell_type": "code",
      "execution_count": 21,
      "metadata": {
        "colab": {
          "base_uri": "https://localhost:8080/"
        },
        "id": "PPoqoqTrvGJ8",
        "outputId": "5b3813da-cfe3-41d2-83e3-e6f173785da8"
      },
      "outputs": [
        {
          "name": "stdout",
          "output_type": "stream",
          "text": [
            "df_1: Index(['reviewer_name', 'review_title', 'place_of_review', 'up_votes',\n",
            "       'down_votes', 'review_text', 'ratings'],\n",
            "      dtype='object')\n",
            "df_2: Index(['reviewer_name', 'ratings', 'review_title', 'review_text',\n",
            "       'place_of_review', 'up_votes', 'down_votes'],\n",
            "      dtype='object')\n",
            "df_3: Index(['reviewer_name', 'ratings', 'review_title', 'review_text',\n",
            "       'place_of_review', 'up_votes', 'down_votes'],\n",
            "      dtype='object')\n"
          ]
        }
      ],
      "source": [
        "print('df_1:', df_1.columns )\n",
        "print('df_2:', df_2.columns )\n",
        "print('df_3:', df_3.columns )"
      ]
    },
    {
      "cell_type": "code",
      "execution_count": 22,
      "metadata": {
        "id": "gMGeEe90uWIv"
      },
      "outputs": [],
      "source": [
        "merge_df = pd.concat([df_1, df_2, df_3], ignore_index =  True)"
      ]
    },
    {
      "cell_type": "code",
      "execution_count": 23,
      "metadata": {
        "colab": {
          "base_uri": "https://localhost:8080/",
          "height": 424
        },
        "id": "3wxaCibyxpbU",
        "outputId": "b3395280-bd17-4fee-9f7e-936eebc043dd"
      },
      "outputs": [
        {
          "data": {
            "text/html": [
              "<div>\n",
              "<style scoped>\n",
              "    .dataframe tbody tr th:only-of-type {\n",
              "        vertical-align: middle;\n",
              "    }\n",
              "\n",
              "    .dataframe tbody tr th {\n",
              "        vertical-align: top;\n",
              "    }\n",
              "\n",
              "    .dataframe thead th {\n",
              "        text-align: right;\n",
              "    }\n",
              "</style>\n",
              "<table border=\"1\" class=\"dataframe\">\n",
              "  <thead>\n",
              "    <tr style=\"text-align: right;\">\n",
              "      <th></th>\n",
              "      <th>reviewer_name</th>\n",
              "      <th>review_title</th>\n",
              "      <th>place_of_review</th>\n",
              "      <th>up_votes</th>\n",
              "      <th>down_votes</th>\n",
              "      <th>review_text</th>\n",
              "      <th>ratings</th>\n",
              "    </tr>\n",
              "  </thead>\n",
              "  <tbody>\n",
              "    <tr>\n",
              "      <th>0</th>\n",
              "      <td>Kamal Suresh</td>\n",
              "      <td>Nice product</td>\n",
              "      <td>Certified Buyer, Chirakkal</td>\n",
              "      <td>889.0</td>\n",
              "      <td>64.0</td>\n",
              "      <td>Nice product, good quality, but price is now r...</td>\n",
              "      <td>4.0</td>\n",
              "    </tr>\n",
              "    <tr>\n",
              "      <th>1</th>\n",
              "      <td>Flipkart Customer</td>\n",
              "      <td>Don't waste your money</td>\n",
              "      <td>Certified Buyer, Hyderabad</td>\n",
              "      <td>109.0</td>\n",
              "      <td>6.0</td>\n",
              "      <td>They didn't supplied Yonex Mavis 350. Outside ...</td>\n",
              "      <td>1.0</td>\n",
              "    </tr>\n",
              "    <tr>\n",
              "      <th>2</th>\n",
              "      <td>A. S. Raja Srinivasan</td>\n",
              "      <td>Did not meet expectations</td>\n",
              "      <td>Certified Buyer, Dharmapuri</td>\n",
              "      <td>42.0</td>\n",
              "      <td>3.0</td>\n",
              "      <td>Worst product. Damaged shuttlecocks packed in ...</td>\n",
              "      <td>1.0</td>\n",
              "    </tr>\n",
              "    <tr>\n",
              "      <th>3</th>\n",
              "      <td>Suresh Narayanasamy</td>\n",
              "      <td>Fair</td>\n",
              "      <td>Certified Buyer, Chennai</td>\n",
              "      <td>25.0</td>\n",
              "      <td>1.0</td>\n",
              "      <td>Quite O. K. , but nowadays  the quality of the...</td>\n",
              "      <td>3.0</td>\n",
              "    </tr>\n",
              "    <tr>\n",
              "      <th>4</th>\n",
              "      <td>ASHIK P A</td>\n",
              "      <td>Over priced</td>\n",
              "      <td>NaN</td>\n",
              "      <td>147.0</td>\n",
              "      <td>24.0</td>\n",
              "      <td>Over pricedJust â?¹620 ..from retailer.I didn'...</td>\n",
              "      <td>1.0</td>\n",
              "    </tr>\n",
              "    <tr>\n",
              "      <th>...</th>\n",
              "      <td>...</td>\n",
              "      <td>...</td>\n",
              "      <td>...</td>\n",
              "      <td>...</td>\n",
              "      <td>...</td>\n",
              "      <td>...</td>\n",
              "      <td>...</td>\n",
              "    </tr>\n",
              "    <tr>\n",
              "      <th>20214</th>\n",
              "      <td>Omm Prakash</td>\n",
              "      <td>Simply awesome</td>\n",
              "      <td>Certified Buyer, Dhamanagar</td>\n",
              "      <td>26.0</td>\n",
              "      <td>5.0</td>\n",
              "      <td>Nice for red tea.Valeu for moneyREAD MORE</td>\n",
              "      <td>5.0</td>\n",
              "    </tr>\n",
              "    <tr>\n",
              "      <th>20215</th>\n",
              "      <td>Ritu Raj</td>\n",
              "      <td>Good choice</td>\n",
              "      <td>Certified Buyer, Katihar District</td>\n",
              "      <td>19.0</td>\n",
              "      <td>4.0</td>\n",
              "      <td>niceREAD MORE</td>\n",
              "      <td>4.0</td>\n",
              "    </tr>\n",
              "    <tr>\n",
              "      <th>20216</th>\n",
              "      <td>Arun Saini</td>\n",
              "      <td>Terrible product</td>\n",
              "      <td>Certified Buyer, Haridwar</td>\n",
              "      <td>13.0</td>\n",
              "      <td>2.0</td>\n",
              "      <td>Tata Gold  Vs Tata Tea Premium👍Tata Tea Premiu...</td>\n",
              "      <td>1.0</td>\n",
              "    </tr>\n",
              "    <tr>\n",
              "      <th>20217</th>\n",
              "      <td>Amitabh Shahi</td>\n",
              "      <td>Just wow!</td>\n",
              "      <td>Certified Buyer, Darbhanga</td>\n",
              "      <td>32.0</td>\n",
              "      <td>10.0</td>\n",
              "      <td>I believe that it's the best packaged tea in t...</td>\n",
              "      <td>5.0</td>\n",
              "    </tr>\n",
              "    <tr>\n",
              "      <th>20218</th>\n",
              "      <td>Rohan  Bhowmik</td>\n",
              "      <td>Simply awesome</td>\n",
              "      <td>Certified Buyer, Paschim Medinipur District</td>\n",
              "      <td>69.0</td>\n",
              "      <td>29.0</td>\n",
              "      <td>Very good product.READ MORE</td>\n",
              "      <td>5.0</td>\n",
              "    </tr>\n",
              "  </tbody>\n",
              "</table>\n",
              "<p>20219 rows × 7 columns</p>\n",
              "</div>"
            ],
            "text/plain": [
              "                reviewer_name               review_title  \\\n",
              "0                Kamal Suresh               Nice product   \n",
              "1           Flipkart Customer     Don't waste your money   \n",
              "2      A. S. Raja Srinivasan   Did not meet expectations   \n",
              "3         Suresh Narayanasamy                       Fair   \n",
              "4                   ASHIK P A                Over priced   \n",
              "...                       ...                        ...   \n",
              "20214            Omm Prakash              Simply awesome   \n",
              "20215                Ritu Raj                Good choice   \n",
              "20216              Arun Saini           Terrible product   \n",
              "20217           Amitabh Shahi                  Just wow!   \n",
              "20218         Rohan  Bhowmik              Simply awesome   \n",
              "\n",
              "                                   place_of_review  up_votes  down_votes  \\\n",
              "0                       Certified Buyer, Chirakkal     889.0        64.0   \n",
              "1                       Certified Buyer, Hyderabad     109.0         6.0   \n",
              "2                      Certified Buyer, Dharmapuri      42.0         3.0   \n",
              "3                         Certified Buyer, Chennai      25.0         1.0   \n",
              "4                                              NaN     147.0        24.0   \n",
              "...                                            ...       ...         ...   \n",
              "20214                  Certified Buyer, Dhamanagar      26.0         5.0   \n",
              "20215            Certified Buyer, Katihar District      19.0         4.0   \n",
              "20216                    Certified Buyer, Haridwar      13.0         2.0   \n",
              "20217                   Certified Buyer, Darbhanga      32.0        10.0   \n",
              "20218  Certified Buyer, Paschim Medinipur District      69.0        29.0   \n",
              "\n",
              "                                             review_text  ratings  \n",
              "0      Nice product, good quality, but price is now r...      4.0  \n",
              "1      They didn't supplied Yonex Mavis 350. Outside ...      1.0  \n",
              "2      Worst product. Damaged shuttlecocks packed in ...      1.0  \n",
              "3      Quite O. K. , but nowadays  the quality of the...      3.0  \n",
              "4      Over pricedJust â?¹620 ..from retailer.I didn'...      1.0  \n",
              "...                                                  ...      ...  \n",
              "20214          Nice for red tea.Valeu for moneyREAD MORE      5.0  \n",
              "20215                                      niceREAD MORE      4.0  \n",
              "20216  Tata Gold  Vs Tata Tea Premium👍Tata Tea Premiu...      1.0  \n",
              "20217  I believe that it's the best packaged tea in t...      5.0  \n",
              "20218                        Very good product.READ MORE      5.0  \n",
              "\n",
              "[20219 rows x 7 columns]"
            ]
          },
          "execution_count": 23,
          "metadata": {},
          "output_type": "execute_result"
        }
      ],
      "source": [
        "merge_df"
      ]
    },
    {
      "cell_type": "code",
      "execution_count": 24,
      "metadata": {
        "colab": {
          "base_uri": "https://localhost:8080/",
          "height": 424
        },
        "id": "nhxmou0PxnHo",
        "outputId": "3c6906d5-8ee9-44dc-ef45-386b78b87598"
      },
      "outputs": [
        {
          "data": {
            "text/html": [
              "<div>\n",
              "<style scoped>\n",
              "    .dataframe tbody tr th:only-of-type {\n",
              "        vertical-align: middle;\n",
              "    }\n",
              "\n",
              "    .dataframe tbody tr th {\n",
              "        vertical-align: top;\n",
              "    }\n",
              "\n",
              "    .dataframe thead th {\n",
              "        text-align: right;\n",
              "    }\n",
              "</style>\n",
              "<table border=\"1\" class=\"dataframe\">\n",
              "  <thead>\n",
              "    <tr style=\"text-align: right;\">\n",
              "      <th></th>\n",
              "      <th>reviewer_name</th>\n",
              "      <th>review_title</th>\n",
              "      <th>place_of_review</th>\n",
              "      <th>up_votes</th>\n",
              "      <th>down_votes</th>\n",
              "      <th>review_text</th>\n",
              "      <th>ratings</th>\n",
              "    </tr>\n",
              "  </thead>\n",
              "  <tbody>\n",
              "    <tr>\n",
              "      <th>0</th>\n",
              "      <td>Kamal Suresh</td>\n",
              "      <td>Nice product</td>\n",
              "      <td>Certified Buyer, Chirakkal</td>\n",
              "      <td>889.0</td>\n",
              "      <td>64.0</td>\n",
              "      <td>Nice product, good quality, but price is now r...</td>\n",
              "      <td>4.0</td>\n",
              "    </tr>\n",
              "    <tr>\n",
              "      <th>1</th>\n",
              "      <td>Flipkart Customer</td>\n",
              "      <td>Don't waste your money</td>\n",
              "      <td>Certified Buyer, Hyderabad</td>\n",
              "      <td>109.0</td>\n",
              "      <td>6.0</td>\n",
              "      <td>They didn't supplied Yonex Mavis 350. Outside ...</td>\n",
              "      <td>1.0</td>\n",
              "    </tr>\n",
              "    <tr>\n",
              "      <th>2</th>\n",
              "      <td>A. S. Raja Srinivasan</td>\n",
              "      <td>Did not meet expectations</td>\n",
              "      <td>Certified Buyer, Dharmapuri</td>\n",
              "      <td>42.0</td>\n",
              "      <td>3.0</td>\n",
              "      <td>Worst product. Damaged shuttlecocks packed in ...</td>\n",
              "      <td>1.0</td>\n",
              "    </tr>\n",
              "    <tr>\n",
              "      <th>3</th>\n",
              "      <td>Suresh Narayanasamy</td>\n",
              "      <td>Fair</td>\n",
              "      <td>Certified Buyer, Chennai</td>\n",
              "      <td>25.0</td>\n",
              "      <td>1.0</td>\n",
              "      <td>Quite O. K. , but nowadays  the quality of the...</td>\n",
              "      <td>3.0</td>\n",
              "    </tr>\n",
              "    <tr>\n",
              "      <th>5</th>\n",
              "      <td>Baji Sankar</td>\n",
              "      <td>Mind-blowing purchase</td>\n",
              "      <td>Certified Buyer, Hyderabad</td>\n",
              "      <td>173.0</td>\n",
              "      <td>45.0</td>\n",
              "      <td>Good quality product. Delivered on time.READ MORE</td>\n",
              "      <td>5.0</td>\n",
              "    </tr>\n",
              "    <tr>\n",
              "      <th>...</th>\n",
              "      <td>...</td>\n",
              "      <td>...</td>\n",
              "      <td>...</td>\n",
              "      <td>...</td>\n",
              "      <td>...</td>\n",
              "      <td>...</td>\n",
              "      <td>...</td>\n",
              "    </tr>\n",
              "    <tr>\n",
              "      <th>20214</th>\n",
              "      <td>Omm Prakash</td>\n",
              "      <td>Simply awesome</td>\n",
              "      <td>Certified Buyer, Dhamanagar</td>\n",
              "      <td>26.0</td>\n",
              "      <td>5.0</td>\n",
              "      <td>Nice for red tea.Valeu for moneyREAD MORE</td>\n",
              "      <td>5.0</td>\n",
              "    </tr>\n",
              "    <tr>\n",
              "      <th>20215</th>\n",
              "      <td>Ritu Raj</td>\n",
              "      <td>Good choice</td>\n",
              "      <td>Certified Buyer, Katihar District</td>\n",
              "      <td>19.0</td>\n",
              "      <td>4.0</td>\n",
              "      <td>niceREAD MORE</td>\n",
              "      <td>4.0</td>\n",
              "    </tr>\n",
              "    <tr>\n",
              "      <th>20216</th>\n",
              "      <td>Arun Saini</td>\n",
              "      <td>Terrible product</td>\n",
              "      <td>Certified Buyer, Haridwar</td>\n",
              "      <td>13.0</td>\n",
              "      <td>2.0</td>\n",
              "      <td>Tata Gold  Vs Tata Tea Premium👍Tata Tea Premiu...</td>\n",
              "      <td>1.0</td>\n",
              "    </tr>\n",
              "    <tr>\n",
              "      <th>20217</th>\n",
              "      <td>Amitabh Shahi</td>\n",
              "      <td>Just wow!</td>\n",
              "      <td>Certified Buyer, Darbhanga</td>\n",
              "      <td>32.0</td>\n",
              "      <td>10.0</td>\n",
              "      <td>I believe that it's the best packaged tea in t...</td>\n",
              "      <td>5.0</td>\n",
              "    </tr>\n",
              "    <tr>\n",
              "      <th>20218</th>\n",
              "      <td>Rohan  Bhowmik</td>\n",
              "      <td>Simply awesome</td>\n",
              "      <td>Certified Buyer, Paschim Medinipur District</td>\n",
              "      <td>69.0</td>\n",
              "      <td>29.0</td>\n",
              "      <td>Very good product.READ MORE</td>\n",
              "      <td>5.0</td>\n",
              "    </tr>\n",
              "  </tbody>\n",
              "</table>\n",
              "<p>19923 rows × 7 columns</p>\n",
              "</div>"
            ],
            "text/plain": [
              "                reviewer_name               review_title  \\\n",
              "0                Kamal Suresh               Nice product   \n",
              "1           Flipkart Customer     Don't waste your money   \n",
              "2      A. S. Raja Srinivasan   Did not meet expectations   \n",
              "3         Suresh Narayanasamy                       Fair   \n",
              "5                 Baji Sankar      Mind-blowing purchase   \n",
              "...                       ...                        ...   \n",
              "20214            Omm Prakash              Simply awesome   \n",
              "20215                Ritu Raj                Good choice   \n",
              "20216              Arun Saini           Terrible product   \n",
              "20217           Amitabh Shahi                  Just wow!   \n",
              "20218         Rohan  Bhowmik              Simply awesome   \n",
              "\n",
              "                                   place_of_review  up_votes  down_votes  \\\n",
              "0                       Certified Buyer, Chirakkal     889.0        64.0   \n",
              "1                       Certified Buyer, Hyderabad     109.0         6.0   \n",
              "2                      Certified Buyer, Dharmapuri      42.0         3.0   \n",
              "3                         Certified Buyer, Chennai      25.0         1.0   \n",
              "5                       Certified Buyer, Hyderabad     173.0        45.0   \n",
              "...                                            ...       ...         ...   \n",
              "20214                  Certified Buyer, Dhamanagar      26.0         5.0   \n",
              "20215            Certified Buyer, Katihar District      19.0         4.0   \n",
              "20216                    Certified Buyer, Haridwar      13.0         2.0   \n",
              "20217                   Certified Buyer, Darbhanga      32.0        10.0   \n",
              "20218  Certified Buyer, Paschim Medinipur District      69.0        29.0   \n",
              "\n",
              "                                             review_text  ratings  \n",
              "0      Nice product, good quality, but price is now r...      4.0  \n",
              "1      They didn't supplied Yonex Mavis 350. Outside ...      1.0  \n",
              "2      Worst product. Damaged shuttlecocks packed in ...      1.0  \n",
              "3      Quite O. K. , but nowadays  the quality of the...      3.0  \n",
              "5      Good quality product. Delivered on time.READ MORE      5.0  \n",
              "...                                                  ...      ...  \n",
              "20214          Nice for red tea.Valeu for moneyREAD MORE      5.0  \n",
              "20215                                      niceREAD MORE      4.0  \n",
              "20216  Tata Gold  Vs Tata Tea Premium👍Tata Tea Premiu...      1.0  \n",
              "20217  I believe that it's the best packaged tea in t...      5.0  \n",
              "20218                        Very good product.READ MORE      5.0  \n",
              "\n",
              "[19923 rows x 7 columns]"
            ]
          },
          "execution_count": 24,
          "metadata": {},
          "output_type": "execute_result"
        }
      ],
      "source": [
        "merge_df.dropna()"
      ]
    },
    {
      "cell_type": "code",
      "execution_count": 25,
      "metadata": {
        "colab": {
          "base_uri": "https://localhost:8080/"
        },
        "id": "A7ZWVFe4vKa4",
        "outputId": "913a4f32-f66f-483f-99c0-30433ba0094b"
      },
      "outputs": [
        {
          "data": {
            "text/plain": [
              "Index(['reviewer_name', 'review_title', 'place_of_review', 'up_votes',\n",
              "       'down_votes', 'review_text', 'ratings'],\n",
              "      dtype='object')"
            ]
          },
          "execution_count": 25,
          "metadata": {},
          "output_type": "execute_result"
        }
      ],
      "source": [
        "merge_df.columns"
      ]
    },
    {
      "cell_type": "code",
      "execution_count": 26,
      "metadata": {
        "id": "Krw48pc9vMnT"
      },
      "outputs": [],
      "source": [
        "df=merge_df"
      ]
    },
    {
      "cell_type": "code",
      "execution_count": 27,
      "metadata": {
        "colab": {
          "base_uri": "https://localhost:8080/",
          "height": 206
        },
        "id": "bRDkyxhCvvOF",
        "outputId": "9667a21b-c5ba-4bd2-c76b-47fa13876314"
      },
      "outputs": [
        {
          "data": {
            "text/html": [
              "<div>\n",
              "<style scoped>\n",
              "    .dataframe tbody tr th:only-of-type {\n",
              "        vertical-align: middle;\n",
              "    }\n",
              "\n",
              "    .dataframe tbody tr th {\n",
              "        vertical-align: top;\n",
              "    }\n",
              "\n",
              "    .dataframe thead th {\n",
              "        text-align: right;\n",
              "    }\n",
              "</style>\n",
              "<table border=\"1\" class=\"dataframe\">\n",
              "  <thead>\n",
              "    <tr style=\"text-align: right;\">\n",
              "      <th></th>\n",
              "      <th>reviewer_name</th>\n",
              "      <th>review_title</th>\n",
              "      <th>place_of_review</th>\n",
              "      <th>up_votes</th>\n",
              "      <th>down_votes</th>\n",
              "      <th>review_text</th>\n",
              "      <th>ratings</th>\n",
              "    </tr>\n",
              "  </thead>\n",
              "  <tbody>\n",
              "    <tr>\n",
              "      <th>0</th>\n",
              "      <td>Kamal Suresh</td>\n",
              "      <td>Nice product</td>\n",
              "      <td>Certified Buyer, Chirakkal</td>\n",
              "      <td>889.0</td>\n",
              "      <td>64.0</td>\n",
              "      <td>Nice product, good quality, but price is now r...</td>\n",
              "      <td>4.0</td>\n",
              "    </tr>\n",
              "    <tr>\n",
              "      <th>1</th>\n",
              "      <td>Flipkart Customer</td>\n",
              "      <td>Don't waste your money</td>\n",
              "      <td>Certified Buyer, Hyderabad</td>\n",
              "      <td>109.0</td>\n",
              "      <td>6.0</td>\n",
              "      <td>They didn't supplied Yonex Mavis 350. Outside ...</td>\n",
              "      <td>1.0</td>\n",
              "    </tr>\n",
              "    <tr>\n",
              "      <th>2</th>\n",
              "      <td>A. S. Raja Srinivasan</td>\n",
              "      <td>Did not meet expectations</td>\n",
              "      <td>Certified Buyer, Dharmapuri</td>\n",
              "      <td>42.0</td>\n",
              "      <td>3.0</td>\n",
              "      <td>Worst product. Damaged shuttlecocks packed in ...</td>\n",
              "      <td>1.0</td>\n",
              "    </tr>\n",
              "    <tr>\n",
              "      <th>3</th>\n",
              "      <td>Suresh Narayanasamy</td>\n",
              "      <td>Fair</td>\n",
              "      <td>Certified Buyer, Chennai</td>\n",
              "      <td>25.0</td>\n",
              "      <td>1.0</td>\n",
              "      <td>Quite O. K. , but nowadays  the quality of the...</td>\n",
              "      <td>3.0</td>\n",
              "    </tr>\n",
              "    <tr>\n",
              "      <th>4</th>\n",
              "      <td>ASHIK P A</td>\n",
              "      <td>Over priced</td>\n",
              "      <td>NaN</td>\n",
              "      <td>147.0</td>\n",
              "      <td>24.0</td>\n",
              "      <td>Over pricedJust â?¹620 ..from retailer.I didn'...</td>\n",
              "      <td>1.0</td>\n",
              "    </tr>\n",
              "  </tbody>\n",
              "</table>\n",
              "</div>"
            ],
            "text/plain": [
              "            reviewer_name               review_title  \\\n",
              "0            Kamal Suresh               Nice product   \n",
              "1       Flipkart Customer     Don't waste your money   \n",
              "2  A. S. Raja Srinivasan   Did not meet expectations   \n",
              "3     Suresh Narayanasamy                       Fair   \n",
              "4               ASHIK P A                Over priced   \n",
              "\n",
              "               place_of_review  up_votes  down_votes  \\\n",
              "0   Certified Buyer, Chirakkal     889.0        64.0   \n",
              "1   Certified Buyer, Hyderabad     109.0         6.0   \n",
              "2  Certified Buyer, Dharmapuri      42.0         3.0   \n",
              "3     Certified Buyer, Chennai      25.0         1.0   \n",
              "4                          NaN     147.0        24.0   \n",
              "\n",
              "                                         review_text  ratings  \n",
              "0  Nice product, good quality, but price is now r...      4.0  \n",
              "1  They didn't supplied Yonex Mavis 350. Outside ...      1.0  \n",
              "2  Worst product. Damaged shuttlecocks packed in ...      1.0  \n",
              "3  Quite O. K. , but nowadays  the quality of the...      3.0  \n",
              "4  Over pricedJust â?¹620 ..from retailer.I didn'...      1.0  "
            ]
          },
          "execution_count": 27,
          "metadata": {},
          "output_type": "execute_result"
        }
      ],
      "source": [
        "df.head()"
      ]
    },
    {
      "cell_type": "code",
      "execution_count": 28,
      "metadata": {
        "colab": {
          "base_uri": "https://localhost:8080/"
        },
        "id": "N2Oedpq-z5g2",
        "outputId": "5e94766a-3c5d-4a3c-b5dd-22b807ede4e2"
      },
      "outputs": [
        {
          "name": "stdout",
          "output_type": "stream",
          "text": [
            "<class 'pandas.core.frame.DataFrame'>\n",
            "RangeIndex: 20219 entries, 0 to 20218\n",
            "Data columns (total 7 columns):\n",
            " #   Column           Non-Null Count  Dtype  \n",
            "---  ------           --------------  -----  \n",
            " 0   reviewer_name    20209 non-null  object \n",
            " 1   review_title     20209 non-null  object \n",
            " 2   place_of_review  20169 non-null  object \n",
            " 3   up_votes         20209 non-null  float64\n",
            " 4   down_votes       20209 non-null  float64\n",
            " 5   review_text      20211 non-null  object \n",
            " 6   ratings          19973 non-null  float64\n",
            "dtypes: float64(3), object(4)\n",
            "memory usage: 1.1+ MB\n"
          ]
        }
      ],
      "source": [
        "df.info()"
      ]
    },
    {
      "cell_type": "code",
      "execution_count": 29,
      "metadata": {
        "id": "_lpfd4--0Cw3"
      },
      "outputs": [],
      "source": [
        "features_avg_rating   = df.groupby(['review_title', 'place_of_review'])['ratings'].mean().reset_index()"
      ]
    },
    {
      "cell_type": "code",
      "execution_count": 30,
      "metadata": {
        "id": "sZohrXo6yWr2"
      },
      "outputs": [],
      "source": [
        "df['review_text'] = df['review_text'].fillna('')\n",
        "\n",
        "# Join the review texts\n",
        "positive_reviews_text = ' '.join(df[df['ratings'] > 3]['review_text'].astype(str))\n",
        "\n",
        "# Now proceed with tokenization and word frequency calculation\n",
        "positive_tokens = word_tokenize(positive_reviews_text)\n",
        "positive_word_freq = Counter(positive_tokens)"
      ]
    },
    {
      "cell_type": "code",
      "execution_count": 31,
      "metadata": {
        "id": "tO1aS1Cf0W09"
      },
      "outputs": [],
      "source": [
        "positive_reviews_text = ' '.join(df[df['ratings'] > 3]['review_text'])\n",
        "positive_tokens = word_tokenize(positive_reviews_text)\n",
        "positive_word_freq = Counter(positive_tokens)"
      ]
    },
    {
      "cell_type": "code",
      "execution_count": 32,
      "metadata": {
        "id": "FAKuYtbMdjJ2"
      },
      "outputs": [],
      "source": [
        "negative_reviews_text = ' '.join(df[df['ratings'] <= 3]['review_text'])\n",
        "negative_tokens = word_tokenize(negative_reviews_text)\n",
        "negative_word_freq = Counter(negative_tokens)"
      ]
    },
    {
      "cell_type": "code",
      "execution_count": 34,
      "metadata": {
        "colab": {
          "base_uri": "https://localhost:8080/",
          "height": 678
        },
        "id": "9V0YkrN5eH6Y",
        "outputId": "0e749f72-4bbc-4b35-8c83-00842601e1a0"
      },
      "outputs": [
        {
          "data": {
            "image/png": "[encoded data removed]",
            "text/plain": [
              "<Figure size 864x432 with 2 Axes>"
            ]
          },
          "metadata": {
            "needs_background": "light"
          },
          "output_type": "display_data"
        }
      ],
      "source": [
        "plt.figure(figsize=(12, 6))\n",
        "\n",
        "plt.subplot(1, 2, 1)\n",
        "plt.barh(list(dict(positive_word_freq.most_common(10)).keys()), list(dict(positive_word_freq.most_common(10)).values()), color='skyblue')\n",
        "plt.title('Top 10 Words in Positive Reviews')\n",
        "plt.xlabel('Frequency')\n",
        "\n",
        "plt.subplot(1, 2, 2)\n",
        "plt.barh(list(dict(negative_word_freq.most_common(10)).keys()), list(dict(negative_word_freq.most_common(10)).values()), color='salmon')\n",
        "plt.title('Top 10 Words in Negative Reviews')\n",
        "plt.xlabel('Frequency')\n",
        "\n",
        "plt.tight_layout()\n",
        "plt.show()"
      ]
    },
    {
      "cell_type": "code",
      "execution_count": 35,
      "metadata": {
        "id": "ZZYoC5iXeLqV"
      },
      "outputs": [],
      "source": [
        "all_reviews_text = ' '.join(df['review_text'])"
      ]
    },
    {
      "cell_type": "code",
      "execution_count": 36,
      "metadata": {
        "id": "ZNgoQkjkiy7E"
      },
      "outputs": [],
      "source": [
        "df = df.dropna()"
      ]
    },
    {
      "cell_type": "code",
      "execution_count": 37,
      "metadata": {
        "id": "qeOt_9jJg-eV"
      },
      "outputs": [],
      "source": [
        "def clean_text(text):\n",
        "    text = text.lower()\n",
        "    text = re.sub(r'[^a-zA-Z0-9\\s]', '', text)\n",
        "    tokens = word_tokenize(text)\n",
        "    stop_words = set(stopwords.words('english'))\n",
        "    tokens = [word for word in tokens if word not in stop_words]\n",
        "    lemmatizer = WordNetLemmatizer()\n",
        "    tokens = [lemmatizer.lemmatize(word) for word in tokens]\n",
        "    cleaned_text = ' '.join(tokens)\n",
        "    return cleaned_text\n",
        "\n"
      ]
    },
    {
      "cell_type": "code",
      "execution_count": 38,
      "metadata": {
        "colab": {
          "base_uri": "https://localhost:8080/"
        },
        "id": "U7tfpkfkiIdr",
        "outputId": "db44b259-2499-4cc0-cedf-6943484c8732"
      },
      "outputs": [
        {
          "name": "stderr",
          "output_type": "stream",
          "text": [
            "C:\\Users\\PS\\AppData\\Local\\Temp\\ipykernel_20160\\317452066.py:1: SettingWithCopyWarning: \n",
            "A value is trying to be set on a copy of a slice from a DataFrame.\n",
            "Try using .loc[row_indexer,col_indexer] = value instead\n",
            "\n",
            "See the caveats in the documentation: https://pandas.pydata.org/pandas-docs/stable/user_guide/indexing.html#returning-a-view-versus-a-copy\n",
            "  df['cleaned_review_text'] = df['review_text'].apply(clean_text)\n"
          ]
        }
      ],
      "source": [
        "df['cleaned_review_text'] = df['review_text'].apply(clean_text)"
      ]
    },
    {
      "cell_type": "code",
      "execution_count": 39,
      "metadata": {
        "colab": {
          "base_uri": "https://localhost:8080/",
          "height": 424
        },
        "id": "gei_lcnhnNZj",
        "outputId": "f70ce08b-3512-4fb5-81fd-4a9a0183e4d4"
      },
      "outputs": [
        {
          "data": {
            "text/html": [
              "<div>\n",
              "<style scoped>\n",
              "    .dataframe tbody tr th:only-of-type {\n",
              "        vertical-align: middle;\n",
              "    }\n",
              "\n",
              "    .dataframe tbody tr th {\n",
              "        vertical-align: top;\n",
              "    }\n",
              "\n",
              "    .dataframe thead th {\n",
              "        text-align: right;\n",
              "    }\n",
              "</style>\n",
              "<table border=\"1\" class=\"dataframe\">\n",
              "  <thead>\n",
              "    <tr style=\"text-align: right;\">\n",
              "      <th></th>\n",
              "      <th>reviewer_name</th>\n",
              "      <th>review_title</th>\n",
              "      <th>place_of_review</th>\n",
              "      <th>up_votes</th>\n",
              "      <th>down_votes</th>\n",
              "      <th>review_text</th>\n",
              "      <th>ratings</th>\n",
              "      <th>cleaned_review_text</th>\n",
              "    </tr>\n",
              "  </thead>\n",
              "  <tbody>\n",
              "    <tr>\n",
              "      <th>0</th>\n",
              "      <td>Kamal Suresh</td>\n",
              "      <td>Nice product</td>\n",
              "      <td>Certified Buyer, Chirakkal</td>\n",
              "      <td>889.0</td>\n",
              "      <td>64.0</td>\n",
              "      <td>Nice product, good quality, but price is now r...</td>\n",
              "      <td>4.0</td>\n",
              "      <td>nice product good quality price rising bad sig...</td>\n",
              "    </tr>\n",
              "    <tr>\n",
              "      <th>1</th>\n",
              "      <td>Flipkart Customer</td>\n",
              "      <td>Don't waste your money</td>\n",
              "      <td>Certified Buyer, Hyderabad</td>\n",
              "      <td>109.0</td>\n",
              "      <td>6.0</td>\n",
              "      <td>They didn't supplied Yonex Mavis 350. Outside ...</td>\n",
              "      <td>1.0</td>\n",
              "      <td>didnt supplied yonex mavis 350 outside cover y...</td>\n",
              "    </tr>\n",
              "    <tr>\n",
              "      <th>2</th>\n",
              "      <td>A. S. Raja Srinivasan</td>\n",
              "      <td>Did not meet expectations</td>\n",
              "      <td>Certified Buyer, Dharmapuri</td>\n",
              "      <td>42.0</td>\n",
              "      <td>3.0</td>\n",
              "      <td>Worst product. Damaged shuttlecocks packed in ...</td>\n",
              "      <td>1.0</td>\n",
              "      <td>worst product damaged shuttlecock packed new b...</td>\n",
              "    </tr>\n",
              "    <tr>\n",
              "      <th>3</th>\n",
              "      <td>Suresh Narayanasamy</td>\n",
              "      <td>Fair</td>\n",
              "      <td>Certified Buyer, Chennai</td>\n",
              "      <td>25.0</td>\n",
              "      <td>1.0</td>\n",
              "      <td>Quite O. K. , but nowadays  the quality of the...</td>\n",
              "      <td>3.0</td>\n",
              "      <td>quite k nowadays quality cork like 3 5 year ba...</td>\n",
              "    </tr>\n",
              "    <tr>\n",
              "      <th>5</th>\n",
              "      <td>Baji Sankar</td>\n",
              "      <td>Mind-blowing purchase</td>\n",
              "      <td>Certified Buyer, Hyderabad</td>\n",
              "      <td>173.0</td>\n",
              "      <td>45.0</td>\n",
              "      <td>Good quality product. Delivered on time.READ MORE</td>\n",
              "      <td>5.0</td>\n",
              "      <td>good quality product delivered timeread</td>\n",
              "    </tr>\n",
              "    <tr>\n",
              "      <th>...</th>\n",
              "      <td>...</td>\n",
              "      <td>...</td>\n",
              "      <td>...</td>\n",
              "      <td>...</td>\n",
              "      <td>...</td>\n",
              "      <td>...</td>\n",
              "      <td>...</td>\n",
              "      <td>...</td>\n",
              "    </tr>\n",
              "    <tr>\n",
              "      <th>20214</th>\n",
              "      <td>Omm Prakash</td>\n",
              "      <td>Simply awesome</td>\n",
              "      <td>Certified Buyer, Dhamanagar</td>\n",
              "      <td>26.0</td>\n",
              "      <td>5.0</td>\n",
              "      <td>Nice for red tea.Valeu for moneyREAD MORE</td>\n",
              "      <td>5.0</td>\n",
              "      <td>nice red teavaleu moneyread</td>\n",
              "    </tr>\n",
              "    <tr>\n",
              "      <th>20215</th>\n",
              "      <td>Ritu Raj</td>\n",
              "      <td>Good choice</td>\n",
              "      <td>Certified Buyer, Katihar District</td>\n",
              "      <td>19.0</td>\n",
              "      <td>4.0</td>\n",
              "      <td>niceREAD MORE</td>\n",
              "      <td>4.0</td>\n",
              "      <td>niceread</td>\n",
              "    </tr>\n",
              "    <tr>\n",
              "      <th>20216</th>\n",
              "      <td>Arun Saini</td>\n",
              "      <td>Terrible product</td>\n",
              "      <td>Certified Buyer, Haridwar</td>\n",
              "      <td>13.0</td>\n",
              "      <td>2.0</td>\n",
              "      <td>Tata Gold  Vs Tata Tea Premium👍Tata Tea Premiu...</td>\n",
              "      <td>1.0</td>\n",
              "      <td>tata gold v tata tea premiumtata tea premium g...</td>\n",
              "    </tr>\n",
              "    <tr>\n",
              "      <th>20217</th>\n",
              "      <td>Amitabh Shahi</td>\n",
              "      <td>Just wow!</td>\n",
              "      <td>Certified Buyer, Darbhanga</td>\n",
              "      <td>32.0</td>\n",
              "      <td>10.0</td>\n",
              "      <td>I believe that it's the best packaged tea in t...</td>\n",
              "      <td>5.0</td>\n",
              "      <td>believe best packaged tea market taste somethi...</td>\n",
              "    </tr>\n",
              "    <tr>\n",
              "      <th>20218</th>\n",
              "      <td>Rohan  Bhowmik</td>\n",
              "      <td>Simply awesome</td>\n",
              "      <td>Certified Buyer, Paschim Medinipur District</td>\n",
              "      <td>69.0</td>\n",
              "      <td>29.0</td>\n",
              "      <td>Very good product.READ MORE</td>\n",
              "      <td>5.0</td>\n",
              "      <td>good productread</td>\n",
              "    </tr>\n",
              "  </tbody>\n",
              "</table>\n",
              "<p>19923 rows × 8 columns</p>\n",
              "</div>"
            ],
            "text/plain": [
              "                reviewer_name               review_title  \\\n",
              "0                Kamal Suresh               Nice product   \n",
              "1           Flipkart Customer     Don't waste your money   \n",
              "2      A. S. Raja Srinivasan   Did not meet expectations   \n",
              "3         Suresh Narayanasamy                       Fair   \n",
              "5                 Baji Sankar      Mind-blowing purchase   \n",
              "...                       ...                        ...   \n",
              "20214            Omm Prakash              Simply awesome   \n",
              "20215                Ritu Raj                Good choice   \n",
              "20216              Arun Saini           Terrible product   \n",
              "20217           Amitabh Shahi                  Just wow!   \n",
              "20218         Rohan  Bhowmik              Simply awesome   \n",
              "\n",
              "                                   place_of_review  up_votes  down_votes  \\\n",
              "0                       Certified Buyer, Chirakkal     889.0        64.0   \n",
              "1                       Certified Buyer, Hyderabad     109.0         6.0   \n",
              "2                      Certified Buyer, Dharmapuri      42.0         3.0   \n",
              "3                         Certified Buyer, Chennai      25.0         1.0   \n",
              "5                       Certified Buyer, Hyderabad     173.0        45.0   \n",
              "...                                            ...       ...         ...   \n",
              "20214                  Certified Buyer, Dhamanagar      26.0         5.0   \n",
              "20215            Certified Buyer, Katihar District      19.0         4.0   \n",
              "20216                    Certified Buyer, Haridwar      13.0         2.0   \n",
              "20217                   Certified Buyer, Darbhanga      32.0        10.0   \n",
              "20218  Certified Buyer, Paschim Medinipur District      69.0        29.0   \n",
              "\n",
              "                                             review_text  ratings  \\\n",
              "0      Nice product, good quality, but price is now r...      4.0   \n",
              "1      They didn't supplied Yonex Mavis 350. Outside ...      1.0   \n",
              "2      Worst product. Damaged shuttlecocks packed in ...      1.0   \n",
              "3      Quite O. K. , but nowadays  the quality of the...      3.0   \n",
              "5      Good quality product. Delivered on time.READ MORE      5.0   \n",
              "...                                                  ...      ...   \n",
              "20214          Nice for red tea.Valeu for moneyREAD MORE      5.0   \n",
              "20215                                      niceREAD MORE      4.0   \n",
              "20216  Tata Gold  Vs Tata Tea Premium👍Tata Tea Premiu...      1.0   \n",
              "20217  I believe that it's the best packaged tea in t...      5.0   \n",
              "20218                        Very good product.READ MORE      5.0   \n",
              "\n",
              "                                     cleaned_review_text  \n",
              "0      nice product good quality price rising bad sig...  \n",
              "1      didnt supplied yonex mavis 350 outside cover y...  \n",
              "2      worst product damaged shuttlecock packed new b...  \n",
              "3      quite k nowadays quality cork like 3 5 year ba...  \n",
              "5                good quality product delivered timeread  \n",
              "...                                                  ...  \n",
              "20214                        nice red teavaleu moneyread  \n",
              "20215                                           niceread  \n",
              "20216  tata gold v tata tea premiumtata tea premium g...  \n",
              "20217  believe best packaged tea market taste somethi...  \n",
              "20218                                   good productread  \n",
              "\n",
              "[19923 rows x 8 columns]"
            ]
          },
          "execution_count": 39,
          "metadata": {},
          "output_type": "execute_result"
        }
      ],
      "source": [
        "df"
      ]
    },
    {
      "cell_type": "code",
      "execution_count": 41,
      "metadata": {
        "id": "2jC-MyW4kA8g"
      },
      "outputs": [
        {
          "name": "stderr",
          "output_type": "stream",
          "text": [
            "c:\\Users\\PS\\AppData\\Local\\Programs\\Python\\Python39\\lib\\site-packages\\tqdm\\auto.py:21: TqdmWarning: IProgress not found. Please update jupyter and ipywidgets. See https://ipywidgets.readthedocs.io/en/stable/user_install.html\n",
            "  from .autonotebook import tqdm as notebook_tqdm\n"
          ]
        }
      ],
      "source": [
        "from sklearn.feature_extraction.text import CountVectorizer, TfidfVectorizer\n",
        "from gensim.models import Word2Vec\n",
        "from transformers import BertTokenizer, BertModel\n",
        "import torch"
      ]
    },
    {
      "cell_type": "code",
      "execution_count": 42,
      "metadata": {
        "id": "sdqEq4HEoaFL"
      },
      "outputs": [],
      "source": [
        "# Bag-of-Words (BoW)\n",
        "bow_vectorizer = CountVectorizer()\n",
        "bow_matrix = bow_vectorizer.fit_transform(df['cleaned_review_text'])\n",
        "\n",
        "# TF-IDF\n",
        "tfidf_vectorizer = TfidfVectorizer()\n",
        "tfidf_matrix = tfidf_vectorizer.fit_transform(df['cleaned_review_text'])"
      ]
    },
    {
      "cell_type": "code",
      "execution_count": 43,
      "metadata": {
        "colab": {
          "base_uri": "https://localhost:8080/"
        },
        "id": "8ajOXXMdomF0",
        "outputId": "cfe62618-39a4-49c4-d463-a18699e8ccbd"
      },
      "outputs": [
        {
          "data": {
            "text/plain": [
              "(644292, 1358330)"
            ]
          },
          "execution_count": 43,
          "metadata": {},
          "output_type": "execute_result"
        }
      ],
      "source": [
        "tokenized_text = df['cleaned_review_text'].apply(word_tokenize)\n",
        "\n",
        "w2v_model = Word2Vec(vector_size=100, window=5, min_count=1, workers=4)\n",
        "w2v_model.build_vocab(tokenized_text)\n",
        "w2v_model.train(tokenized_text, total_examples=w2v_model.corpus_count, epochs=10)\n",
        "\n"
      ]
    },
    {
      "cell_type": "code",
      "execution_count": 44,
      "metadata": {
        "colab": {
          "base_uri": "https://localhost:8080/"
        },
        "id": "Hcozuf0psCp8",
        "outputId": "3dc853bb-96e2-426a-92f6-a19991b4c0c9"
      },
      "outputs": [
        {
          "name": "stderr",
          "output_type": "stream",
          "text": [
            "C:\\Users\\PS\\AppData\\Local\\Temp\\ipykernel_20160\\51529857.py:1: SettingWithCopyWarning: \n",
            "A value is trying to be set on a copy of a slice from a DataFrame.\n",
            "Try using .loc[row_indexer,col_indexer] = value instead\n",
            "\n",
            "See the caveats in the documentation: https://pandas.pydata.org/pandas-docs/stable/user_guide/indexing.html#returning-a-view-versus-a-copy\n",
            "  df['sentiment'] = df['ratings'].apply(lambda x: 'Positive' if x > 3 else 'Negative')\n"
          ]
        }
      ],
      "source": [
        "df['sentiment'] = df['ratings'].apply(lambda x: 'Positive' if x > 3 else 'Negative')"
      ]
    },
    {
      "cell_type": "code",
      "execution_count": 45,
      "metadata": {
        "colab": {
          "base_uri": "https://localhost:8080/",
          "height": 424
        },
        "id": "nD98L7bjqeIG",
        "outputId": "6e09e916-b6ad-407e-8e54-4c1fc5feafb2"
      },
      "outputs": [
        {
          "data": {
            "text/html": [
              "<div>\n",
              "<style scoped>\n",
              "    .dataframe tbody tr th:only-of-type {\n",
              "        vertical-align: middle;\n",
              "    }\n",
              "\n",
              "    .dataframe tbody tr th {\n",
              "        vertical-align: top;\n",
              "    }\n",
              "\n",
              "    .dataframe thead th {\n",
              "        text-align: right;\n",
              "    }\n",
              "</style>\n",
              "<table border=\"1\" class=\"dataframe\">\n",
              "  <thead>\n",
              "    <tr style=\"text-align: right;\">\n",
              "      <th></th>\n",
              "      <th>reviewer_name</th>\n",
              "      <th>review_title</th>\n",
              "      <th>place_of_review</th>\n",
              "      <th>up_votes</th>\n",
              "      <th>down_votes</th>\n",
              "      <th>review_text</th>\n",
              "      <th>ratings</th>\n",
              "      <th>cleaned_review_text</th>\n",
              "      <th>sentiment</th>\n",
              "    </tr>\n",
              "  </thead>\n",
              "  <tbody>\n",
              "    <tr>\n",
              "      <th>0</th>\n",
              "      <td>Kamal Suresh</td>\n",
              "      <td>Nice product</td>\n",
              "      <td>Certified Buyer, Chirakkal</td>\n",
              "      <td>889.0</td>\n",
              "      <td>64.0</td>\n",
              "      <td>Nice product, good quality, but price is now r...</td>\n",
              "      <td>4.0</td>\n",
              "      <td>nice product good quality price rising bad sig...</td>\n",
              "      <td>Positive</td>\n",
              "    </tr>\n",
              "    <tr>\n",
              "      <th>1</th>\n",
              "      <td>Flipkart Customer</td>\n",
              "      <td>Don't waste your money</td>\n",
              "      <td>Certified Buyer, Hyderabad</td>\n",
              "      <td>109.0</td>\n",
              "      <td>6.0</td>\n",
              "      <td>They didn't supplied Yonex Mavis 350. Outside ...</td>\n",
              "      <td>1.0</td>\n",
              "      <td>didnt supplied yonex mavis 350 outside cover y...</td>\n",
              "      <td>Negative</td>\n",
              "    </tr>\n",
              "    <tr>\n",
              "      <th>2</th>\n",
              "      <td>A. S. Raja Srinivasan</td>\n",
              "      <td>Did not meet expectations</td>\n",
              "      <td>Certified Buyer, Dharmapuri</td>\n",
              "      <td>42.0</td>\n",
              "      <td>3.0</td>\n",
              "      <td>Worst product. Damaged shuttlecocks packed in ...</td>\n",
              "      <td>1.0</td>\n",
              "      <td>worst product damaged shuttlecock packed new b...</td>\n",
              "      <td>Negative</td>\n",
              "    </tr>\n",
              "    <tr>\n",
              "      <th>3</th>\n",
              "      <td>Suresh Narayanasamy</td>\n",
              "      <td>Fair</td>\n",
              "      <td>Certified Buyer, Chennai</td>\n",
              "      <td>25.0</td>\n",
              "      <td>1.0</td>\n",
              "      <td>Quite O. K. , but nowadays  the quality of the...</td>\n",
              "      <td>3.0</td>\n",
              "      <td>quite k nowadays quality cork like 3 5 year ba...</td>\n",
              "      <td>Negative</td>\n",
              "    </tr>\n",
              "    <tr>\n",
              "      <th>5</th>\n",
              "      <td>Baji Sankar</td>\n",
              "      <td>Mind-blowing purchase</td>\n",
              "      <td>Certified Buyer, Hyderabad</td>\n",
              "      <td>173.0</td>\n",
              "      <td>45.0</td>\n",
              "      <td>Good quality product. Delivered on time.READ MORE</td>\n",
              "      <td>5.0</td>\n",
              "      <td>good quality product delivered timeread</td>\n",
              "      <td>Positive</td>\n",
              "    </tr>\n",
              "    <tr>\n",
              "      <th>...</th>\n",
              "      <td>...</td>\n",
              "      <td>...</td>\n",
              "      <td>...</td>\n",
              "      <td>...</td>\n",
              "      <td>...</td>\n",
              "      <td>...</td>\n",
              "      <td>...</td>\n",
              "      <td>...</td>\n",
              "      <td>...</td>\n",
              "    </tr>\n",
              "    <tr>\n",
              "      <th>20214</th>\n",
              "      <td>Omm Prakash</td>\n",
              "      <td>Simply awesome</td>\n",
              "      <td>Certified Buyer, Dhamanagar</td>\n",
              "      <td>26.0</td>\n",
              "      <td>5.0</td>\n",
              "      <td>Nice for red tea.Valeu for moneyREAD MORE</td>\n",
              "      <td>5.0</td>\n",
              "      <td>nice red teavaleu moneyread</td>\n",
              "      <td>Positive</td>\n",
              "    </tr>\n",
              "    <tr>\n",
              "      <th>20215</th>\n",
              "      <td>Ritu Raj</td>\n",
              "      <td>Good choice</td>\n",
              "      <td>Certified Buyer, Katihar District</td>\n",
              "      <td>19.0</td>\n",
              "      <td>4.0</td>\n",
              "      <td>niceREAD MORE</td>\n",
              "      <td>4.0</td>\n",
              "      <td>niceread</td>\n",
              "      <td>Positive</td>\n",
              "    </tr>\n",
              "    <tr>\n",
              "      <th>20216</th>\n",
              "      <td>Arun Saini</td>\n",
              "      <td>Terrible product</td>\n",
              "      <td>Certified Buyer, Haridwar</td>\n",
              "      <td>13.0</td>\n",
              "      <td>2.0</td>\n",
              "      <td>Tata Gold  Vs Tata Tea Premium👍Tata Tea Premiu...</td>\n",
              "      <td>1.0</td>\n",
              "      <td>tata gold v tata tea premiumtata tea premium g...</td>\n",
              "      <td>Negative</td>\n",
              "    </tr>\n",
              "    <tr>\n",
              "      <th>20217</th>\n",
              "      <td>Amitabh Shahi</td>\n",
              "      <td>Just wow!</td>\n",
              "      <td>Certified Buyer, Darbhanga</td>\n",
              "      <td>32.0</td>\n",
              "      <td>10.0</td>\n",
              "      <td>I believe that it's the best packaged tea in t...</td>\n",
              "      <td>5.0</td>\n",
              "      <td>believe best packaged tea market taste somethi...</td>\n",
              "      <td>Positive</td>\n",
              "    </tr>\n",
              "    <tr>\n",
              "      <th>20218</th>\n",
              "      <td>Rohan  Bhowmik</td>\n",
              "      <td>Simply awesome</td>\n",
              "      <td>Certified Buyer, Paschim Medinipur District</td>\n",
              "      <td>69.0</td>\n",
              "      <td>29.0</td>\n",
              "      <td>Very good product.READ MORE</td>\n",
              "      <td>5.0</td>\n",
              "      <td>good productread</td>\n",
              "      <td>Positive</td>\n",
              "    </tr>\n",
              "  </tbody>\n",
              "</table>\n",
              "<p>19923 rows × 9 columns</p>\n",
              "</div>"
            ],
            "text/plain": [
              "                reviewer_name               review_title  \\\n",
              "0                Kamal Suresh               Nice product   \n",
              "1           Flipkart Customer     Don't waste your money   \n",
              "2      A. S. Raja Srinivasan   Did not meet expectations   \n",
              "3         Suresh Narayanasamy                       Fair   \n",
              "5                 Baji Sankar      Mind-blowing purchase   \n",
              "...                       ...                        ...   \n",
              "20214            Omm Prakash              Simply awesome   \n",
              "20215                Ritu Raj                Good choice   \n",
              "20216              Arun Saini           Terrible product   \n",
              "20217           Amitabh Shahi                  Just wow!   \n",
              "20218         Rohan  Bhowmik              Simply awesome   \n",
              "\n",
              "                                   place_of_review  up_votes  down_votes  \\\n",
              "0                       Certified Buyer, Chirakkal     889.0        64.0   \n",
              "1                       Certified Buyer, Hyderabad     109.0         6.0   \n",
              "2                      Certified Buyer, Dharmapuri      42.0         3.0   \n",
              "3                         Certified Buyer, Chennai      25.0         1.0   \n",
              "5                       Certified Buyer, Hyderabad     173.0        45.0   \n",
              "...                                            ...       ...         ...   \n",
              "20214                  Certified Buyer, Dhamanagar      26.0         5.0   \n",
              "20215            Certified Buyer, Katihar District      19.0         4.0   \n",
              "20216                    Certified Buyer, Haridwar      13.0         2.0   \n",
              "20217                   Certified Buyer, Darbhanga      32.0        10.0   \n",
              "20218  Certified Buyer, Paschim Medinipur District      69.0        29.0   \n",
              "\n",
              "                                             review_text  ratings  \\\n",
              "0      Nice product, good quality, but price is now r...      4.0   \n",
              "1      They didn't supplied Yonex Mavis 350. Outside ...      1.0   \n",
              "2      Worst product. Damaged shuttlecocks packed in ...      1.0   \n",
              "3      Quite O. K. , but nowadays  the quality of the...      3.0   \n",
              "5      Good quality product. Delivered on time.READ MORE      5.0   \n",
              "...                                                  ...      ...   \n",
              "20214          Nice for red tea.Valeu for moneyREAD MORE      5.0   \n",
              "20215                                      niceREAD MORE      4.0   \n",
              "20216  Tata Gold  Vs Tata Tea Premium👍Tata Tea Premiu...      1.0   \n",
              "20217  I believe that it's the best packaged tea in t...      5.0   \n",
              "20218                        Very good product.READ MORE      5.0   \n",
              "\n",
              "                                     cleaned_review_text sentiment  \n",
              "0      nice product good quality price rising bad sig...  Positive  \n",
              "1      didnt supplied yonex mavis 350 outside cover y...  Negative  \n",
              "2      worst product damaged shuttlecock packed new b...  Negative  \n",
              "3      quite k nowadays quality cork like 3 5 year ba...  Negative  \n",
              "5                good quality product delivered timeread  Positive  \n",
              "...                                                  ...       ...  \n",
              "20214                        nice red teavaleu moneyread  Positive  \n",
              "20215                                           niceread  Positive  \n",
              "20216  tata gold v tata tea premiumtata tea premium g...  Negative  \n",
              "20217  believe best packaged tea market taste somethi...  Positive  \n",
              "20218                                   good productread  Positive  \n",
              "\n",
              "[19923 rows x 9 columns]"
            ]
          },
          "execution_count": 45,
          "metadata": {},
          "output_type": "execute_result"
        }
      ],
      "source": [
        "df"
      ]
    },
    {
      "cell_type": "code",
      "execution_count": 47,
      "metadata": {
        "id": "gGYoCOcdsV2Z"
      },
      "outputs": [
        {
          "name": "stdout",
          "output_type": "stream",
          "text": [
            "DataFrame successfully written to CSV file in the current directory.\n"
          ]
        }
      ],
      "source": [
        "try:\n",
        "    df.to_csv('cleaned_data.csv', index=False)\n",
        "    print(\"DataFrame successfully written to CSV file in the current directory.\")\n",
        "except Exception as e:\n",
        "    print(\"Error:\", e)"
      ]
    }
  ],
  "metadata": {
    "colab": {
      "provenance": []
    },
    "kernelspec": {
      "display_name": "Python 3",
      "language": "python",
      "name": "python3"
    },
    "language_info": {
      "codemirror_mode": {
        "name": "ipython",
        "version": 3
      },
      "file_extension": ".py",
      "mimetype": "text/x-python",
      "name": "python",
      "nbconvert_exporter": "python",
      "pygments_lexer": "ipython3",
      "version": "3.9.5"
    }
  },
  "nbformat": 4,
  "nbformat_minor": 0
}
